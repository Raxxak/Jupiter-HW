{
 "cells": [
  {
   "cell_type": "markdown",
   "metadata": {},
   "source": [
    "## PHSX 815 Neural Network with Keras tutorial\n",
    "### How can we predict the quality of wine based on its physical characteristics?\n",
    "We will download the `wine_quality` dataset from Tensorflow (the Keras backend) to train a neural network to predict wine quality."
   ]
  },
  {
   "cell_type": "code",
   "execution_count": 1,
   "metadata": {},
   "outputs": [],
   "source": [
    "import matplotlib.pyplot as plt\n",
    "import seaborn as sns\n",
    "import numpy as np\n",
    "from sklearn.preprocessing import OneHotEncoder, MinMaxScaler\n",
    "from sklearn.metrics import confusion_matrix\n",
    "from sklearn.model_selection import train_test_split\n",
    "import pandas as pd\n",
    "\n",
    "import tensorflow as tf\n",
    "from tensorflow.keras.models import Sequential, Model\n",
    "from tensorflow.keras.layers import *\n",
    "# from tensorflow.keras.optimizers import SGD, Adam\n",
    "# from tensorflow.keras.activations import relu\n",
    "import tensorflow_datasets as tfds\n",
    "from IPython.core.interactiveshell import InteractiveShell\n",
    "InteractiveShell.ast_node_interactivity = \"all\""
   ]
  },
  {
   "cell_type": "code",
   "execution_count": 2,
   "metadata": {},
   "outputs": [
    {
     "name": "stdout",
     "output_type": "stream",
     "text": [
      "Features and label for first entry\n",
      "{'alcohol': 9.0, 'chlorides': 0.054, 'citric acid': 0.34, 'density': 1.0008, 'fixed acidity': 7.6, 'free sulfur dioxide': 44.0, 'pH': 3.22, 'residual sugar': 18.35, 'sulphates': 0.550000011920929, 'total sulfur dioxide': 197.0, 'volatile acidity': 0.32} 5\n",
      "number of samples 6497\n",
      "possible wine quality ratings [5 6 4 8 7 3 9]\n"
     ]
    }
   ],
   "source": [
    "#if you want to load the data as tuples, you can use the as_supervised=True argument\n",
    "data_train = tfds.load('wine_quality',split='train',as_supervised=True)\n",
    "\n",
    "#looking at just one sample of our data\n",
    "pt = data_train.take(1)\n",
    "# type(pt)\n",
    "\n",
    "#can convert this TakeDataset object to a numpy array (can do this for the whole dataset too)\n",
    "print(\"Features and label for first entry\")\n",
    "for features, label in tfds.as_numpy(pt):\n",
    "    print(features,label)\n",
    "\n",
    "#we want to load dataset as a a dictionary of tf.Tensors (can't transform tuples to dataframe)\n",
    "data_train_white = tfds.load('wine_quality/white',split='train')\n",
    "data_train_red = tfds.load('wine_quality/red',split='train')\n",
    "\n",
    "#transform dictionary to dataframe - combining red and white wine\n",
    "df_white = tfds.as_dataframe(data_train_white)\n",
    "df_red = tfds.as_dataframe(data_train_red)\n",
    "df = pd.concat([df_white,df_red])\n",
    "\n",
    "print('number of samples',len(df['quality']))\n",
    "\n",
    "#what are our output possibilities?\n",
    "print('possible wine quality ratings',df['quality'].unique())"
   ]
  },
  {
   "cell_type": "code",
   "execution_count": 3,
   "metadata": {},
   "outputs": [
    {
     "name": "stdout",
     "output_type": "stream",
     "text": [
      "all good!\n"
     ]
    }
   ],
   "source": [
    "#do we have any missing data (empty or NaN entries in features or labels)?\n",
    "dataNans = df.isnull().values.any()\n",
    "if not dataNans:\n",
    "    print(\"all good!\")"
   ]
  },
  {
   "cell_type": "markdown",
   "metadata": {},
   "source": [
    "### Preprocessing our labels\n",
    "Although this may seem like a regression task for a neural network because we are predicting a number (wine quality), the labels are actually *categorical* not *continuous*. If you look at the labels, you see that they are integer values between 5 and 9. Because this is a classification problem, we need to one-hot encode our labels. This means taking our possible outcomes and turning them into arrays of a 1 and 0's. The index of the 1 in the array will tell us which class is which. So, for example, 5 becomes [1,0,0,0,0], 6 becomes [0,1,0,0,0] and so on. We can use a function from sklearn to do this automatically."
   ]
  },
  {
   "cell_type": "markdown",
   "metadata": {},
   "source": [
    "this dataset unfortunately only gives us training data - but we can set aside a portion for testing our network on. in practice, you don't want to test your network on data it has already seen (is it really a prediction if you use your model on data it was fitted to?) but, for educational purposes, we can ~randomly sample our data and call it ~iid.\n",
    "Here, I combine the red and white wine datasets for increased statistics. What happens if you train networks on these datasets separately? Or what happens if you use one dataset to train and one to test?"
   ]
  },
  {
   "cell_type": "code",
   "execution_count": 4,
   "metadata": {},
   "outputs": [
    {
     "data": {
      "text/plain": [
       "array([5, 6, 4, 8, 7, 3, 9])"
      ]
     },
     "execution_count": 4,
     "metadata": {},
     "output_type": "execute_result"
    },
    {
     "data": {
      "text/html": [
       "<div>\n",
       "<style scoped>\n",
       "    .dataframe tbody tr th:only-of-type {\n",
       "        vertical-align: middle;\n",
       "    }\n",
       "\n",
       "    .dataframe tbody tr th {\n",
       "        vertical-align: top;\n",
       "    }\n",
       "\n",
       "    .dataframe thead th {\n",
       "        text-align: right;\n",
       "    }\n",
       "</style>\n",
       "<table border=\"1\" class=\"dataframe\">\n",
       "  <thead>\n",
       "    <tr style=\"text-align: right;\">\n",
       "      <th></th>\n",
       "      <th>features/alcohol</th>\n",
       "      <th>features/chlorides</th>\n",
       "      <th>features/citric acid</th>\n",
       "      <th>features/density</th>\n",
       "      <th>features/fixed acidity</th>\n",
       "      <th>features/free sulfur dioxide</th>\n",
       "      <th>features/pH</th>\n",
       "      <th>features/residual sugar</th>\n",
       "      <th>features/sulphates</th>\n",
       "      <th>features/total sulfur dioxide</th>\n",
       "      <th>features/volatile acidity</th>\n",
       "    </tr>\n",
       "  </thead>\n",
       "  <tbody>\n",
       "    <tr>\n",
       "      <th>1384</th>\n",
       "      <td>10.0</td>\n",
       "      <td>0.057</td>\n",
       "      <td>0.23</td>\n",
       "      <td>0.99568</td>\n",
       "      <td>6.9</td>\n",
       "      <td>54.0</td>\n",
       "      <td>3.23</td>\n",
       "      <td>9.5</td>\n",
       "      <td>0.42</td>\n",
       "      <td>166.0</td>\n",
       "      <td>0.37</td>\n",
       "    </tr>\n",
       "    <tr>\n",
       "      <th>768</th>\n",
       "      <td>9.6</td>\n",
       "      <td>0.084</td>\n",
       "      <td>0.17</td>\n",
       "      <td>0.99818</td>\n",
       "      <td>8.8</td>\n",
       "      <td>25.0</td>\n",
       "      <td>3.23</td>\n",
       "      <td>2.9</td>\n",
       "      <td>0.54</td>\n",
       "      <td>130.0</td>\n",
       "      <td>0.64</td>\n",
       "    </tr>\n",
       "    <tr>\n",
       "      <th>4342</th>\n",
       "      <td>10.6</td>\n",
       "      <td>0.028</td>\n",
       "      <td>0.39</td>\n",
       "      <td>0.99156</td>\n",
       "      <td>5.3</td>\n",
       "      <td>40.0</td>\n",
       "      <td>3.57</td>\n",
       "      <td>1.0</td>\n",
       "      <td>0.59</td>\n",
       "      <td>101.0</td>\n",
       "      <td>0.16</td>\n",
       "    </tr>\n",
       "    <tr>\n",
       "      <th>3549</th>\n",
       "      <td>10.3</td>\n",
       "      <td>0.056</td>\n",
       "      <td>0.33</td>\n",
       "      <td>0.99380</td>\n",
       "      <td>6.9</td>\n",
       "      <td>35.0</td>\n",
       "      <td>3.63</td>\n",
       "      <td>1.4</td>\n",
       "      <td>0.78</td>\n",
       "      <td>136.0</td>\n",
       "      <td>0.21</td>\n",
       "    </tr>\n",
       "    <tr>\n",
       "      <th>4542</th>\n",
       "      <td>9.4</td>\n",
       "      <td>0.048</td>\n",
       "      <td>0.24</td>\n",
       "      <td>0.99570</td>\n",
       "      <td>7.0</td>\n",
       "      <td>31.0</td>\n",
       "      <td>3.23</td>\n",
       "      <td>6.2</td>\n",
       "      <td>0.62</td>\n",
       "      <td>228.0</td>\n",
       "      <td>0.32</td>\n",
       "    </tr>\n",
       "  </tbody>\n",
       "</table>\n",
       "</div>"
      ],
      "text/plain": [
       "      features/alcohol  features/chlorides  features/citric acid  \\\n",
       "1384              10.0               0.057                  0.23   \n",
       "768                9.6               0.084                  0.17   \n",
       "4342              10.6               0.028                  0.39   \n",
       "3549              10.3               0.056                  0.33   \n",
       "4542               9.4               0.048                  0.24   \n",
       "\n",
       "      features/density  features/fixed acidity  features/free sulfur dioxide  \\\n",
       "1384           0.99568                     6.9                          54.0   \n",
       "768            0.99818                     8.8                          25.0   \n",
       "4342           0.99156                     5.3                          40.0   \n",
       "3549           0.99380                     6.9                          35.0   \n",
       "4542           0.99570                     7.0                          31.0   \n",
       "\n",
       "      features/pH  features/residual sugar  features/sulphates  \\\n",
       "1384         3.23                      9.5                0.42   \n",
       "768          3.23                      2.9                0.54   \n",
       "4342         3.57                      1.0                0.59   \n",
       "3549         3.63                      1.4                0.78   \n",
       "4542         3.23                      6.2                0.62   \n",
       "\n",
       "      features/total sulfur dioxide  features/volatile acidity  \n",
       "1384                          166.0                       0.37  \n",
       "768                           130.0                       0.64  \n",
       "4342                          101.0                       0.16  \n",
       "3549                          136.0                       0.21  \n",
       "4542                          228.0                       0.32  "
      ]
     },
     "execution_count": 4,
     "metadata": {},
     "output_type": "execute_result"
    }
   ],
   "source": [
    "#it's helpful to separate our input features from our target features (quality) \n",
    "#so we can later only transform our inputs without changing our labels\n",
    "labels = df['quality']\n",
    "df = df.drop(labels='quality',axis=1)\n",
    "labels.unique()\n",
    "\n",
    "enc = OneHotEncoder(sparse=False)\n",
    "labels = enc.fit_transform(labels.to_numpy().reshape(-1,1))\n",
    "\n",
    "#make our test data\n",
    "df, df_test, labels, df_testLabels = train_test_split(df,labels,test_size=0.1)\n",
    "\n",
    "#look at the first 5 entries\n",
    "df.head()"
   ]
  },
  {
   "cell_type": "markdown",
   "metadata": {},
   "source": [
    "### some questions to consider:\n",
    "- how was this data obtained? what goes into engineering the features? what does \"quality\" mean?\n",
    "- do you have to normalize your features?\n",
    "- are there any correlations among features? is this expected? how can we encode this information to the NN or decouple these features?\n",
    "- what does the data look like?\n",
    "- do we have any missing or NaN entries?"
   ]
  },
  {
   "cell_type": "markdown",
   "metadata": {},
   "source": [
    "let's examine the data to see what kinds of transformations we need to make for preprocessing"
   ]
  },
  {
   "cell_type": "code",
   "execution_count": 5,
   "metadata": {},
   "outputs": [
    {
     "data": {
      "text/html": [
       "<div>\n",
       "<style scoped>\n",
       "    .dataframe tbody tr th:only-of-type {\n",
       "        vertical-align: middle;\n",
       "    }\n",
       "\n",
       "    .dataframe tbody tr th {\n",
       "        vertical-align: top;\n",
       "    }\n",
       "\n",
       "    .dataframe thead th {\n",
       "        text-align: right;\n",
       "    }\n",
       "</style>\n",
       "<table border=\"1\" class=\"dataframe\">\n",
       "  <thead>\n",
       "    <tr style=\"text-align: right;\">\n",
       "      <th></th>\n",
       "      <th>features/alcohol</th>\n",
       "      <th>features/chlorides</th>\n",
       "      <th>features/citric acid</th>\n",
       "      <th>features/density</th>\n",
       "      <th>features/fixed acidity</th>\n",
       "      <th>features/free sulfur dioxide</th>\n",
       "      <th>features/pH</th>\n",
       "      <th>features/residual sugar</th>\n",
       "      <th>features/sulphates</th>\n",
       "      <th>features/total sulfur dioxide</th>\n",
       "      <th>features/volatile acidity</th>\n",
       "    </tr>\n",
       "  </thead>\n",
       "  <tbody>\n",
       "    <tr>\n",
       "      <th>count</th>\n",
       "      <td>5847.000000</td>\n",
       "      <td>5847.000000</td>\n",
       "      <td>5847.000000</td>\n",
       "      <td>5847.000000</td>\n",
       "      <td>5847.000000</td>\n",
       "      <td>5847.000000</td>\n",
       "      <td>5847.000000</td>\n",
       "      <td>5847.000000</td>\n",
       "      <td>5847.000000</td>\n",
       "      <td>5847.000000</td>\n",
       "      <td>5847.000000</td>\n",
       "    </tr>\n",
       "    <tr>\n",
       "      <th>mean</th>\n",
       "      <td>10.492379</td>\n",
       "      <td>0.056034</td>\n",
       "      <td>0.320335</td>\n",
       "      <td>0.994700</td>\n",
       "      <td>7.216077</td>\n",
       "      <td>30.675218</td>\n",
       "      <td>3.217946</td>\n",
       "      <td>5.462382</td>\n",
       "      <td>0.531613</td>\n",
       "      <td>116.101591</td>\n",
       "      <td>0.338900</td>\n",
       "    </tr>\n",
       "    <tr>\n",
       "      <th>std</th>\n",
       "      <td>1.192435</td>\n",
       "      <td>0.035212</td>\n",
       "      <td>0.144926</td>\n",
       "      <td>0.003001</td>\n",
       "      <td>1.299413</td>\n",
       "      <td>17.957855</td>\n",
       "      <td>0.160212</td>\n",
       "      <td>4.760629</td>\n",
       "      <td>0.149417</td>\n",
       "      <td>56.778918</td>\n",
       "      <td>0.164564</td>\n",
       "    </tr>\n",
       "    <tr>\n",
       "      <th>min</th>\n",
       "      <td>8.000000</td>\n",
       "      <td>0.009000</td>\n",
       "      <td>0.000000</td>\n",
       "      <td>0.987110</td>\n",
       "      <td>3.800000</td>\n",
       "      <td>1.000000</td>\n",
       "      <td>2.720000</td>\n",
       "      <td>0.600000</td>\n",
       "      <td>0.220000</td>\n",
       "      <td>6.000000</td>\n",
       "      <td>0.080000</td>\n",
       "    </tr>\n",
       "    <tr>\n",
       "      <th>25%</th>\n",
       "      <td>9.500000</td>\n",
       "      <td>0.038000</td>\n",
       "      <td>0.250000</td>\n",
       "      <td>0.992350</td>\n",
       "      <td>6.400000</td>\n",
       "      <td>17.000000</td>\n",
       "      <td>3.110000</td>\n",
       "      <td>1.800000</td>\n",
       "      <td>0.430000</td>\n",
       "      <td>78.000000</td>\n",
       "      <td>0.230000</td>\n",
       "    </tr>\n",
       "    <tr>\n",
       "      <th>50%</th>\n",
       "      <td>10.300000</td>\n",
       "      <td>0.047000</td>\n",
       "      <td>0.310000</td>\n",
       "      <td>0.994900</td>\n",
       "      <td>7.000000</td>\n",
       "      <td>29.000000</td>\n",
       "      <td>3.210000</td>\n",
       "      <td>3.000000</td>\n",
       "      <td>0.510000</td>\n",
       "      <td>118.000000</td>\n",
       "      <td>0.290000</td>\n",
       "    </tr>\n",
       "    <tr>\n",
       "      <th>75%</th>\n",
       "      <td>11.300000</td>\n",
       "      <td>0.064000</td>\n",
       "      <td>0.400000</td>\n",
       "      <td>0.996930</td>\n",
       "      <td>7.700000</td>\n",
       "      <td>42.000000</td>\n",
       "      <td>3.320000</td>\n",
       "      <td>8.100000</td>\n",
       "      <td>0.600000</td>\n",
       "      <td>156.000000</td>\n",
       "      <td>0.400000</td>\n",
       "    </tr>\n",
       "    <tr>\n",
       "      <th>max</th>\n",
       "      <td>14.900000</td>\n",
       "      <td>0.611000</td>\n",
       "      <td>1.660000</td>\n",
       "      <td>1.038980</td>\n",
       "      <td>15.900000</td>\n",
       "      <td>289.000000</td>\n",
       "      <td>4.010000</td>\n",
       "      <td>65.800003</td>\n",
       "      <td>2.000000</td>\n",
       "      <td>440.000000</td>\n",
       "      <td>1.580000</td>\n",
       "    </tr>\n",
       "  </tbody>\n",
       "</table>\n",
       "</div>"
      ],
      "text/plain": [
       "       features/alcohol  features/chlorides  features/citric acid  \\\n",
       "count       5847.000000         5847.000000           5847.000000   \n",
       "mean          10.492379            0.056034              0.320335   \n",
       "std            1.192435            0.035212              0.144926   \n",
       "min            8.000000            0.009000              0.000000   \n",
       "25%            9.500000            0.038000              0.250000   \n",
       "50%           10.300000            0.047000              0.310000   \n",
       "75%           11.300000            0.064000              0.400000   \n",
       "max           14.900000            0.611000              1.660000   \n",
       "\n",
       "       features/density  features/fixed acidity  features/free sulfur dioxide  \\\n",
       "count       5847.000000             5847.000000                   5847.000000   \n",
       "mean           0.994700                7.216077                     30.675218   \n",
       "std            0.003001                1.299413                     17.957855   \n",
       "min            0.987110                3.800000                      1.000000   \n",
       "25%            0.992350                6.400000                     17.000000   \n",
       "50%            0.994900                7.000000                     29.000000   \n",
       "75%            0.996930                7.700000                     42.000000   \n",
       "max            1.038980               15.900000                    289.000000   \n",
       "\n",
       "       features/pH  features/residual sugar  features/sulphates  \\\n",
       "count  5847.000000              5847.000000         5847.000000   \n",
       "mean      3.217946                 5.462382            0.531613   \n",
       "std       0.160212                 4.760629            0.149417   \n",
       "min       2.720000                 0.600000            0.220000   \n",
       "25%       3.110000                 1.800000            0.430000   \n",
       "50%       3.210000                 3.000000            0.510000   \n",
       "75%       3.320000                 8.100000            0.600000   \n",
       "max       4.010000                65.800003            2.000000   \n",
       "\n",
       "       features/total sulfur dioxide  features/volatile acidity  \n",
       "count                    5847.000000                5847.000000  \n",
       "mean                      116.101591                   0.338900  \n",
       "std                        56.778918                   0.164564  \n",
       "min                         6.000000                   0.080000  \n",
       "25%                        78.000000                   0.230000  \n",
       "50%                       118.000000                   0.290000  \n",
       "75%                       156.000000                   0.400000  \n",
       "max                       440.000000                   1.580000  "
      ]
     },
     "execution_count": 5,
     "metadata": {},
     "output_type": "execute_result"
    }
   ],
   "source": [
    "df.describe()"
   ]
  },
  {
   "cell_type": "markdown",
   "metadata": {},
   "source": [
    "### Visualizing data\n",
    "If you want a cool and easy way to visualize not only the features, but also the correlations between features, you can use the following seaborn function, which will display the individual features on the diagonal of the subplots and the correlations between features\n",
    "\n",
    "`pl = sns.pairplot(df[df.columns], diag_kind='kde')`"
   ]
  },
  {
   "cell_type": "code",
   "execution_count": 6,
   "metadata": {},
   "outputs": [
    {
     "data": {
      "image/png": "[encoded data removed]",
      "text/plain": [
       "<Figure size 1080x1440 with 12 Axes>"
      ]
     },
     "metadata": {
      "needs_background": "light"
     },
     "output_type": "display_data"
    }
   ],
   "source": [
    "#visualizing our input features\n",
    "nFeatures = len(df.columns)\n",
    "nCols = 3\n",
    "nRows = int(np.ceil(nFeatures/nCols))\n",
    "cols = df.columns\n",
    "fig, axs = plt.subplots(nRows,nCols,figsize=(15,20))\n",
    "# for i, ax in enumerate(axs)\n",
    "col = 0\n",
    "for i in range(nRows):\n",
    "    for j in range(nCols):\n",
    "        if col >= nFeatures:\n",
    "            break\n",
    "        h = axs[i,j].hist(df[cols[col]])\n",
    "        h = axs[i,j].set_title(cols[col])\n",
    "        col += 1"
   ]
  },
  {
   "cell_type": "markdown",
   "metadata": {},
   "source": [
    "It looks like there are two types of sulfur dioxide features: total sulfur dioxide and free sulfur dioxide. I'm not entirely sure what sulfur dioxide is (I am neither a chemist nor a sommelier) so I'm curious if there is a correlation between these features. "
   ]
  },
  {
   "cell_type": "code",
   "execution_count": 7,
   "metadata": {},
   "outputs": [
    {
     "data": {
      "text/plain": [
       "<matplotlib.collections.PathCollection at 0x7fce01f9ed00>"
      ]
     },
     "execution_count": 7,
     "metadata": {},
     "output_type": "execute_result"
    },
    {
     "data": {
      "image/png": "[encoded data removed]",
      "text/plain": [
       "<Figure size 432x288 with 1 Axes>"
      ]
     },
     "metadata": {
      "needs_background": "light"
     },
     "output_type": "display_data"
    }
   ],
   "source": [
    "plt.scatter(df['features/free sulfur dioxide'],df['features/total sulfur dioxide'])"
   ]
  },
  {
   "cell_type": "markdown",
   "metadata": {},
   "source": [
    "It looks like there is some correlation between these features. If I had to guess, I would say \"free sulfur dioxide\" is a subset of \"total sulfur dioxide\" but I'm not sure how or even if either of these features would affect the wine quality. This is where domain specific knowledge would be helpful! Since I have a degree in physics and not wine studies (contrary to what my weekend activities may imply) I am going to see what happens when we include both of these features in our network."
   ]
  },
  {
   "cell_type": "markdown",
   "metadata": {},
   "source": [
    "This was just a cursory look at our data. In reality, data scientists will spend most of their time feature engineering, fixing incomplete datasets, cleaning data, etc. Feel free to do more exploratory analysis on the data before you pass it through to a network!"
   ]
  },
  {
   "cell_type": "markdown",
   "metadata": {},
   "source": [
    "## Let's build our network!\n",
    "We want to build a simple DNN to essentially perform a categorization. Let's start with something simple: only a couple hidden layers and a handful of neurons. Of course, in accordance with the Universal Approximation Theorem, any function can be approximated arbitrarily well with an arbitrarily large number of layers (Lu et. al. 2017) or arbitrarily large number of neurons (Cybenko 1989). Does the network perform better or worse with an increase in layers or neurons?"
   ]
  },
  {
   "cell_type": "code",
   "execution_count": 8,
   "metadata": {},
   "outputs": [
    {
     "name": "stdout",
     "output_type": "stream",
     "text": [
      "Model: \"sequential\"\n",
      "_________________________________________________________________\n",
      "Layer (type)                 Output Shape              Param #   \n",
      "=================================================================\n",
      "dense (Dense)                (None, 64)                768       \n",
      "_________________________________________________________________\n",
      "dense_1 (Dense)              (None, 64)                4160      \n",
      "_________________________________________________________________\n",
      "dense_2 (Dense)              (None, 64)                4160      \n",
      "_________________________________________________________________\n",
      "dense_3 (Dense)              (None, 7)                 455       \n",
      "=================================================================\n",
      "Total params: 9,543\n",
      "Trainable params: 9,543\n",
      "Non-trainable params: 0\n",
      "_________________________________________________________________\n"
     ]
    }
   ],
   "source": [
    "cols = df.columns\n",
    "nClasses = len(labels[0])\n",
    "\n",
    "#using Keras's Sequential model - https://keras.io/api/models/sequential/\n",
    "model = Sequential()\n",
    "#add input layer\n",
    "model.add(Input(shape=(len(cols),))) #the input layer shape should match the number of features we have\n",
    "#add first layer of fully connected neurons\n",
    "model.add(Dense(64,activation='relu'))\n",
    "#add second layer (first hidden layer)\n",
    "model.add(Dense(64,activation='relu'))\n",
    "#and one more because why not\n",
    "model.add(Dense(64,activation='relu'))\n",
    "#finally, our output layer should have only one neuron because we are trying to predict only one number\n",
    "#notice how there is a different activation function in this layer\n",
    "#this is because we want our outputs for each class to be a probability\n",
    "model.add(Dense(nClasses,activation='softmax'))\n",
    "\n",
    "#compile our model - set our loss metric (categorical cross entropy) and optimizer (stochastic gradient descent)\n",
    "#how does the model performance change with different optimizers (ie AdaGrad, SGD, etc.)?\n",
    "model.compile(loss='CategoricalCrossentropy',optimizer='Adam',metrics=['accuracy'])\n",
    "\n",
    "#let's see a summary of our model\n",
    "model.summary()"
   ]
  },
  {
   "cell_type": "markdown",
   "metadata": {},
   "source": [
    "As shown above, we have a network with four layers, 128 neurons/layer, for a total of ~50k trainable parameters (remember: parameters are the biases and weights that the network learns). Imagine how many parameters a large, complex network at Google has!"
   ]
  },
  {
   "cell_type": "markdown",
   "metadata": {},
   "source": [
    "### the same model can be built using the generic Model class and slightly different syntax\n",
    "`\n",
    "inputs = tf.keras.Input(shape=(len(cols),))\n",
    "outputs_L1 = Dense(64, activation='relu')(inputs)\n",
    "outputs_L2 = Dense(64, activation='relu')(outputs_L1)\n",
    "outputs_L3 = Dense(64, activation='relu')(outputs_L2)\n",
    "pred = Dense(1)(outputs_L3)\n",
    "model = Model(inputs=inputs,outputs=pred)\n",
    "`"
   ]
  },
  {
   "cell_type": "markdown",
   "metadata": {},
   "source": [
    "### Training our model\n",
    "\n",
    "Let's give our model all the input features (df), the corresponding labels (labels)\n",
    "\n",
    "There is a 20% validation split, which means that 80% of our data will be used to train the model parameters\n",
    "while 20% of it will be saved to \"check\" our answers. This is data that the model has not seen (been trained on) so the performance on the validation data should give us an idea of if the model is over- or underfitting.\n",
    "\n",
    "We will train for 100 epochs, which means that the entire dataset will be passed through the whole network 100 times. Our batch size is 20, meaning that 20 samples at a time are passed to the network before the parameters are updated. The `shuffle` argument ensures that our data is shuffled before the beginning of each epoch to reduce spurious learned correlations. What happens if you let the model run for more epochs?\n"
   ]
  },
  {
   "cell_type": "code",
   "execution_count": 9,
   "metadata": {},
   "outputs": [
    {
     "name": "stdout",
     "output_type": "stream",
     "text": [
      "Epoch 1/100\n",
      "30/30 [==============================] - 1s 25ms/step - loss: 9.6975 - accuracy: 0.1576 - val_loss: 1.8614 - val_accuracy: 0.3345\n",
      "Epoch 2/100\n",
      "30/30 [==============================] - 0s 3ms/step - loss: 1.6298 - accuracy: 0.3860 - val_loss: 1.3247 - val_accuracy: 0.4531\n",
      "Epoch 3/100\n",
      "30/30 [==============================] - 0s 3ms/step - loss: 1.2981 - accuracy: 0.4368 - val_loss: 1.2699 - val_accuracy: 0.4617\n",
      "Epoch 4/100\n",
      "30/30 [==============================] - 0s 6ms/step - loss: 1.2778 - accuracy: 0.4634 - val_loss: 1.2623 - val_accuracy: 0.4607\n",
      "Epoch 5/100\n",
      "30/30 [==============================] - 0s 3ms/step - loss: 1.2573 - accuracy: 0.4532 - val_loss: 1.2431 - val_accuracy: 0.4549\n",
      "Epoch 6/100\n",
      "30/30 [==============================] - 0s 3ms/step - loss: 1.2247 - accuracy: 0.4497 - val_loss: 1.2795 - val_accuracy: 0.4405\n",
      "Epoch 7/100\n",
      "30/30 [==============================] - 0s 3ms/step - loss: 1.2458 - accuracy: 0.4633 - val_loss: 1.2525 - val_accuracy: 0.4651\n",
      "Epoch 8/100\n",
      "30/30 [==============================] - 0s 3ms/step - loss: 1.2819 - accuracy: 0.4358 - val_loss: 1.2261 - val_accuracy: 0.4665\n",
      "Epoch 9/100\n",
      "30/30 [==============================] - 0s 3ms/step - loss: 1.2252 - accuracy: 0.4558 - val_loss: 1.2543 - val_accuracy: 0.4583\n",
      "Epoch 10/100\n",
      "30/30 [==============================] - 0s 3ms/step - loss: 1.2208 - accuracy: 0.4562 - val_loss: 1.2194 - val_accuracy: 0.4679\n",
      "Epoch 11/100\n",
      "30/30 [==============================] - 0s 3ms/step - loss: 1.2342 - accuracy: 0.4694 - val_loss: 1.2150 - val_accuracy: 0.4723\n",
      "Epoch 12/100\n",
      "30/30 [==============================] - 0s 3ms/step - loss: 1.2367 - accuracy: 0.4539 - val_loss: 1.2216 - val_accuracy: 0.4665\n",
      "Epoch 13/100\n",
      "30/30 [==============================] - 0s 3ms/step - loss: 1.2020 - accuracy: 0.4841 - val_loss: 1.2203 - val_accuracy: 0.4668\n",
      "Epoch 14/100\n",
      "30/30 [==============================] - 0s 3ms/step - loss: 1.1879 - accuracy: 0.4739 - val_loss: 1.2250 - val_accuracy: 0.4586\n",
      "Epoch 15/100\n",
      "30/30 [==============================] - 0s 3ms/step - loss: 1.2001 - accuracy: 0.4567 - val_loss: 1.1964 - val_accuracy: 0.4795\n",
      "Epoch 16/100\n",
      "30/30 [==============================] - 0s 3ms/step - loss: 1.1615 - accuracy: 0.4584 - val_loss: 1.2244 - val_accuracy: 0.4579\n",
      "Epoch 17/100\n",
      "30/30 [==============================] - 0s 3ms/step - loss: 1.1925 - accuracy: 0.4758 - val_loss: 1.2133 - val_accuracy: 0.4579\n",
      "Epoch 18/100\n",
      "30/30 [==============================] - 0s 3ms/step - loss: 1.1822 - accuracy: 0.4669 - val_loss: 1.2049 - val_accuracy: 0.4771\n",
      "Epoch 19/100\n",
      "30/30 [==============================] - 0s 3ms/step - loss: 1.1479 - accuracy: 0.4888 - val_loss: 1.2009 - val_accuracy: 0.4764\n",
      "Epoch 20/100\n",
      "30/30 [==============================] - 0s 3ms/step - loss: 1.1839 - accuracy: 0.4758 - val_loss: 1.1951 - val_accuracy: 0.4665\n",
      "Epoch 21/100\n",
      "30/30 [==============================] - 0s 3ms/step - loss: 1.1569 - accuracy: 0.4793 - val_loss: 1.1835 - val_accuracy: 0.4993\n",
      "Epoch 22/100\n",
      "30/30 [==============================] - 0s 3ms/step - loss: 1.1446 - accuracy: 0.4994 - val_loss: 1.1875 - val_accuracy: 0.5010\n",
      "Epoch 23/100\n",
      "30/30 [==============================] - 0s 3ms/step - loss: 1.1511 - accuracy: 0.4919 - val_loss: 1.1773 - val_accuracy: 0.4887\n",
      "Epoch 24/100\n",
      "30/30 [==============================] - 0s 3ms/step - loss: 1.1457 - accuracy: 0.4932 - val_loss: 1.1767 - val_accuracy: 0.4945\n",
      "Epoch 25/100\n",
      "30/30 [==============================] - 0s 3ms/step - loss: 1.1558 - accuracy: 0.4822 - val_loss: 1.1711 - val_accuracy: 0.5038\n",
      "Epoch 26/100\n",
      "30/30 [==============================] - 0s 3ms/step - loss: 1.1401 - accuracy: 0.4938 - val_loss: 1.1534 - val_accuracy: 0.4911\n",
      "Epoch 27/100\n",
      "30/30 [==============================] - 0s 3ms/step - loss: 1.1525 - accuracy: 0.4732 - val_loss: 1.1574 - val_accuracy: 0.4863\n",
      "Epoch 28/100\n",
      "30/30 [==============================] - 0s 3ms/step - loss: 1.1523 - accuracy: 0.5008 - val_loss: 1.1553 - val_accuracy: 0.5068\n",
      "Epoch 29/100\n",
      "30/30 [==============================] - 0s 3ms/step - loss: 1.1331 - accuracy: 0.4961 - val_loss: 1.1535 - val_accuracy: 0.4956\n",
      "Epoch 30/100\n",
      "30/30 [==============================] - 0s 3ms/step - loss: 1.1419 - accuracy: 0.4956 - val_loss: 1.1387 - val_accuracy: 0.4990\n",
      "Epoch 31/100\n",
      "30/30 [==============================] - 0s 3ms/step - loss: 1.1420 - accuracy: 0.4932 - val_loss: 1.1558 - val_accuracy: 0.4942\n",
      "Epoch 32/100\n",
      "30/30 [==============================] - 0s 3ms/step - loss: 1.1070 - accuracy: 0.5139 - val_loss: 1.1308 - val_accuracy: 0.5116\n",
      "Epoch 33/100\n",
      "30/30 [==============================] - 0s 3ms/step - loss: 1.0992 - accuracy: 0.5044 - val_loss: 1.1808 - val_accuracy: 0.4839\n",
      "Epoch 34/100\n",
      "30/30 [==============================] - 0s 3ms/step - loss: 1.1153 - accuracy: 0.4942 - val_loss: 1.1546 - val_accuracy: 0.4921\n",
      "Epoch 35/100\n",
      "30/30 [==============================] - 0s 3ms/step - loss: 1.1208 - accuracy: 0.5088 - val_loss: 1.1452 - val_accuracy: 0.5082\n",
      "Epoch 36/100\n",
      "30/30 [==============================] - 0s 3ms/step - loss: 1.1321 - accuracy: 0.4932 - val_loss: 1.1470 - val_accuracy: 0.4938\n",
      "Epoch 37/100\n",
      "30/30 [==============================] - 0s 2ms/step - loss: 1.0964 - accuracy: 0.5164 - val_loss: 1.1344 - val_accuracy: 0.5079\n",
      "Epoch 38/100\n",
      "30/30 [==============================] - 0s 3ms/step - loss: 1.0917 - accuracy: 0.5232 - val_loss: 1.1338 - val_accuracy: 0.5014\n",
      "Epoch 39/100\n",
      "30/30 [==============================] - 0s 2ms/step - loss: 1.0935 - accuracy: 0.5190 - val_loss: 1.1245 - val_accuracy: 0.5150\n",
      "Epoch 40/100\n",
      "30/30 [==============================] - 0s 2ms/step - loss: 1.0942 - accuracy: 0.4985 - val_loss: 1.1253 - val_accuracy: 0.5202\n",
      "Epoch 41/100\n",
      "30/30 [==============================] - 0s 3ms/step - loss: 1.0871 - accuracy: 0.5079 - val_loss: 1.1241 - val_accuracy: 0.5168\n",
      "Epoch 42/100\n",
      "30/30 [==============================] - 0s 3ms/step - loss: 1.1028 - accuracy: 0.5042 - val_loss: 1.1314 - val_accuracy: 0.5127\n",
      "Epoch 43/100\n",
      "30/30 [==============================] - 0s 3ms/step - loss: 1.1131 - accuracy: 0.5020 - val_loss: 1.1308 - val_accuracy: 0.5246\n",
      "Epoch 44/100\n",
      "30/30 [==============================] - 0s 2ms/step - loss: 1.0904 - accuracy: 0.5186 - val_loss: 1.1415 - val_accuracy: 0.4969\n",
      "Epoch 45/100\n",
      "30/30 [==============================] - 0s 2ms/step - loss: 1.1502 - accuracy: 0.4826 - val_loss: 1.1224 - val_accuracy: 0.5130\n",
      "Epoch 46/100\n",
      "30/30 [==============================] - 0s 3ms/step - loss: 1.0937 - accuracy: 0.5113 - val_loss: 1.1408 - val_accuracy: 0.5010\n",
      "Epoch 47/100\n",
      "30/30 [==============================] - 0s 3ms/step - loss: 1.1102 - accuracy: 0.5084 - val_loss: 1.1207 - val_accuracy: 0.5079\n",
      "Epoch 48/100\n",
      "30/30 [==============================] - 0s 3ms/step - loss: 1.0814 - accuracy: 0.5159 - val_loss: 1.1149 - val_accuracy: 0.5226\n",
      "Epoch 49/100\n",
      "30/30 [==============================] - 0s 3ms/step - loss: 1.0821 - accuracy: 0.5120 - val_loss: 1.1277 - val_accuracy: 0.5130\n",
      "Epoch 50/100\n",
      "30/30 [==============================] - 0s 3ms/step - loss: 1.1096 - accuracy: 0.4978 - val_loss: 1.1432 - val_accuracy: 0.4993\n",
      "Epoch 51/100\n",
      "30/30 [==============================] - 0s 3ms/step - loss: 1.1269 - accuracy: 0.5048 - val_loss: 1.1191 - val_accuracy: 0.5140\n",
      "Epoch 52/100\n",
      "30/30 [==============================] - 0s 3ms/step - loss: 1.0814 - accuracy: 0.5307 - val_loss: 1.1222 - val_accuracy: 0.5082\n",
      "Epoch 53/100\n",
      "30/30 [==============================] - 0s 3ms/step - loss: 1.1161 - accuracy: 0.5074 - val_loss: 1.1094 - val_accuracy: 0.5267\n",
      "Epoch 54/100\n",
      "30/30 [==============================] - 0s 3ms/step - loss: 1.0588 - accuracy: 0.5369 - val_loss: 1.1085 - val_accuracy: 0.5140\n",
      "Epoch 55/100\n",
      "30/30 [==============================] - 0s 3ms/step - loss: 1.0799 - accuracy: 0.5177 - val_loss: 1.1116 - val_accuracy: 0.5233\n",
      "Epoch 56/100\n",
      "30/30 [==============================] - 0s 3ms/step - loss: 1.0631 - accuracy: 0.5480 - val_loss: 1.1011 - val_accuracy: 0.5253\n",
      "Epoch 57/100\n",
      "30/30 [==============================] - 0s 3ms/step - loss: 1.0689 - accuracy: 0.5226 - val_loss: 1.1167 - val_accuracy: 0.5140\n",
      "Epoch 58/100\n",
      "30/30 [==============================] - 0s 3ms/step - loss: 1.0875 - accuracy: 0.5160 - val_loss: 1.1209 - val_accuracy: 0.5202\n"
     ]
    },
    {
     "name": "stdout",
     "output_type": "stream",
     "text": [
      "Epoch 59/100\n",
      "30/30 [==============================] - 0s 3ms/step - loss: 1.0732 - accuracy: 0.5240 - val_loss: 1.1568 - val_accuracy: 0.4894\n",
      "Epoch 60/100\n",
      "30/30 [==============================] - 0s 3ms/step - loss: 1.0891 - accuracy: 0.5163 - val_loss: 1.1094 - val_accuracy: 0.5099\n",
      "Epoch 61/100\n",
      "30/30 [==============================] - 0s 3ms/step - loss: 1.0661 - accuracy: 0.5343 - val_loss: 1.1175 - val_accuracy: 0.5250\n",
      "Epoch 62/100\n",
      "30/30 [==============================] - 0s 3ms/step - loss: 1.0931 - accuracy: 0.5291 - val_loss: 1.1330 - val_accuracy: 0.4966\n",
      "Epoch 63/100\n",
      "30/30 [==============================] - 0s 3ms/step - loss: 1.0730 - accuracy: 0.5158 - val_loss: 1.1165 - val_accuracy: 0.5109\n",
      "Epoch 64/100\n",
      "30/30 [==============================] - 0s 3ms/step - loss: 1.0841 - accuracy: 0.5143 - val_loss: 1.1125 - val_accuracy: 0.5140\n",
      "Epoch 65/100\n",
      "30/30 [==============================] - 0s 3ms/step - loss: 1.0586 - accuracy: 0.5210 - val_loss: 1.0978 - val_accuracy: 0.5253\n",
      "Epoch 66/100\n",
      "30/30 [==============================] - 0s 3ms/step - loss: 1.0614 - accuracy: 0.5239 - val_loss: 1.1176 - val_accuracy: 0.5181\n",
      "Epoch 67/100\n",
      "30/30 [==============================] - 0s 3ms/step - loss: 1.0774 - accuracy: 0.5253 - val_loss: 1.0990 - val_accuracy: 0.5287\n",
      "Epoch 68/100\n",
      "30/30 [==============================] - 0s 3ms/step - loss: 1.0663 - accuracy: 0.5324 - val_loss: 1.1024 - val_accuracy: 0.5181\n",
      "Epoch 69/100\n",
      "30/30 [==============================] - 0s 2ms/step - loss: 1.0910 - accuracy: 0.5195 - val_loss: 1.2381 - val_accuracy: 0.4716\n",
      "Epoch 70/100\n",
      "30/30 [==============================] - 0s 2ms/step - loss: 1.1098 - accuracy: 0.4873 - val_loss: 1.1525 - val_accuracy: 0.5133\n",
      "Epoch 71/100\n",
      "30/30 [==============================] - 0s 3ms/step - loss: 1.0949 - accuracy: 0.5240 - val_loss: 1.1206 - val_accuracy: 0.5113\n",
      "Epoch 72/100\n",
      "30/30 [==============================] - 0s 3ms/step - loss: 1.0605 - accuracy: 0.5081 - val_loss: 1.1163 - val_accuracy: 0.5068\n",
      "Epoch 73/100\n",
      "30/30 [==============================] - 0s 3ms/step - loss: 1.0547 - accuracy: 0.5086 - val_loss: 1.0980 - val_accuracy: 0.5246\n",
      "Epoch 74/100\n",
      "30/30 [==============================] - 0s 3ms/step - loss: 1.0562 - accuracy: 0.5173 - val_loss: 1.1054 - val_accuracy: 0.5284\n",
      "Epoch 75/100\n",
      "30/30 [==============================] - 0s 3ms/step - loss: 1.0240 - accuracy: 0.5549 - val_loss: 1.0960 - val_accuracy: 0.5233\n",
      "Epoch 76/100\n",
      "30/30 [==============================] - 0s 3ms/step - loss: 1.0323 - accuracy: 0.5462 - val_loss: 1.0944 - val_accuracy: 0.5321\n",
      "Epoch 77/100\n",
      "30/30 [==============================] - 0s 3ms/step - loss: 1.0516 - accuracy: 0.5294 - val_loss: 1.1195 - val_accuracy: 0.5147\n",
      "Epoch 78/100\n",
      "30/30 [==============================] - 0s 3ms/step - loss: 1.0446 - accuracy: 0.5517 - val_loss: 1.1044 - val_accuracy: 0.5233\n",
      "Epoch 79/100\n",
      "30/30 [==============================] - 0s 3ms/step - loss: 1.0858 - accuracy: 0.5193 - val_loss: 1.1144 - val_accuracy: 0.5127\n",
      "Epoch 80/100\n",
      "30/30 [==============================] - 0s 2ms/step - loss: 1.0430 - accuracy: 0.5270 - val_loss: 1.1028 - val_accuracy: 0.5229\n",
      "Epoch 81/100\n",
      "30/30 [==============================] - 0s 2ms/step - loss: 1.0455 - accuracy: 0.5244 - val_loss: 1.1179 - val_accuracy: 0.5147\n",
      "Epoch 82/100\n",
      "30/30 [==============================] - 0s 3ms/step - loss: 1.0649 - accuracy: 0.5256 - val_loss: 1.1056 - val_accuracy: 0.5137\n",
      "Epoch 83/100\n",
      "30/30 [==============================] - 0s 3ms/step - loss: 1.0349 - accuracy: 0.5432 - val_loss: 1.1021 - val_accuracy: 0.5209\n",
      "Epoch 84/100\n",
      "30/30 [==============================] - 0s 3ms/step - loss: 1.0656 - accuracy: 0.5151 - val_loss: 1.0968 - val_accuracy: 0.5335\n",
      "Epoch 85/100\n",
      "30/30 [==============================] - 0s 3ms/step - loss: 1.0443 - accuracy: 0.5255 - val_loss: 1.1099 - val_accuracy: 0.5157\n",
      "Epoch 86/100\n",
      "30/30 [==============================] - 0s 3ms/step - loss: 1.0695 - accuracy: 0.5184 - val_loss: 1.1028 - val_accuracy: 0.5233\n",
      "Epoch 87/100\n",
      "30/30 [==============================] - 0s 3ms/step - loss: 1.0484 - accuracy: 0.5390 - val_loss: 1.1089 - val_accuracy: 0.5298\n",
      "Epoch 88/100\n",
      "30/30 [==============================] - 0s 3ms/step - loss: 1.0675 - accuracy: 0.5181 - val_loss: 1.1167 - val_accuracy: 0.5229\n",
      "Epoch 89/100\n",
      "30/30 [==============================] - 0s 3ms/step - loss: 1.0512 - accuracy: 0.5176 - val_loss: 1.0981 - val_accuracy: 0.5383\n",
      "Epoch 90/100\n",
      "30/30 [==============================] - 0s 3ms/step - loss: 1.0542 - accuracy: 0.5184 - val_loss: 1.1107 - val_accuracy: 0.5188\n",
      "Epoch 91/100\n",
      "30/30 [==============================] - 0s 3ms/step - loss: 1.0757 - accuracy: 0.5343 - val_loss: 1.1051 - val_accuracy: 0.5366\n",
      "Epoch 92/100\n",
      "30/30 [==============================] - 0s 3ms/step - loss: 1.0747 - accuracy: 0.5125 - val_loss: 1.1109 - val_accuracy: 0.5147\n",
      "Epoch 93/100\n",
      "30/30 [==============================] - 0s 3ms/step - loss: 1.0462 - accuracy: 0.5286 - val_loss: 1.1238 - val_accuracy: 0.5144\n",
      "Epoch 94/100\n",
      "30/30 [==============================] - 0s 3ms/step - loss: 1.0440 - accuracy: 0.5402 - val_loss: 1.0965 - val_accuracy: 0.5250\n",
      "Epoch 95/100\n",
      "30/30 [==============================] - 0s 3ms/step - loss: 1.0216 - accuracy: 0.5468 - val_loss: 1.0979 - val_accuracy: 0.5256\n",
      "Epoch 96/100\n",
      "30/30 [==============================] - 0s 3ms/step - loss: 1.0313 - accuracy: 0.5356 - val_loss: 1.1017 - val_accuracy: 0.5212\n",
      "Epoch 97/100\n",
      "30/30 [==============================] - 0s 3ms/step - loss: 1.0513 - accuracy: 0.5255 - val_loss: 1.1178 - val_accuracy: 0.5116\n",
      "Epoch 98/100\n",
      "30/30 [==============================] - 0s 3ms/step - loss: 1.0294 - accuracy: 0.5203 - val_loss: 1.1162 - val_accuracy: 0.5171\n",
      "Epoch 99/100\n",
      "30/30 [==============================] - 0s 3ms/step - loss: 1.0544 - accuracy: 0.5275 - val_loss: 1.1361 - val_accuracy: 0.5000\n",
      "Epoch 100/100\n",
      "30/30 [==============================] - 0s 4ms/step - loss: 1.0854 - accuracy: 0.5127 - val_loss: 1.1053 - val_accuracy: 0.5298\n"
     ]
    }
   ],
   "source": [
    "history = model.fit(\n",
    "    df, labels,\n",
    "    validation_split=0.5,\n",
    "    verbose=1, epochs=100, batch_size=100, shuffle=True)"
   ]
  },
  {
   "cell_type": "markdown",
   "metadata": {},
   "source": [
    "Let's define a function to visualize our loss"
   ]
  },
  {
   "cell_type": "code",
   "execution_count": 10,
   "metadata": {},
   "outputs": [
    {
     "data": {
      "image/png": "[encoded data removed]",
      "text/plain": [
       "<Figure size 432x288 with 1 Axes>"
      ]
     },
     "metadata": {
      "needs_background": "light"
     },
     "output_type": "display_data"
    }
   ],
   "source": [
    "def show_loss(history):\n",
    "    plt.figure()\n",
    "    plt.plot(history.history['val_loss'], label=\"val loss\")\n",
    "    plt.plot(history.history['loss'],label=\"train loss\")\n",
    "    plt.xlabel(\"Epoch\")\n",
    "    plt.ylabel(\"Loss\")\n",
    "    plt.legend()\n",
    "show_loss(history)"
   ]
  },
  {
   "cell_type": "markdown",
   "metadata": {},
   "source": [
    "It looks like our training loss is more or less monotonically minimized with each epoch (with some fluctuations) while the validation loss seems to be on average higher. The validation loss spikes more severely than the training loss, which is probably due to limited statistics (we only had ~6k samples and took onlt 20% of them for validation - it usually takes LOTS of data to train neural networks well!). The trend discrepancy between training and validation losses could indicate some overfitting in our model. What happens if you increase the percentage of data used for validation? Since it's pretty apparent we're overfitting to our training data, we could introduce some sort of regularization techniques, like L2 regularization (that penalizes large weights) or dropout (that randomly drops neurons in a layer with a set probability). What happens if you introduce some of these methods?"
   ]
  },
  {
   "cell_type": "markdown",
   "metadata": {},
   "source": [
    "### Remember that test data we set aside at the beginning?\n",
    "Now it's time to use it to evaluate our model performance!"
   ]
  },
  {
   "cell_type": "code",
   "execution_count": 11,
   "metadata": {
    "scrolled": true
   },
   "outputs": [
    {
     "name": "stdout",
     "output_type": "stream",
     "text": [
      "21/21 [==============================] - 0s 967us/step - loss: 1.0813 - accuracy: 0.5338\n",
      "Accuracy for test data is 0.5338461399078369\n"
     ]
    }
   ],
   "source": [
    "_, acc = model.evaluate(df_test, df_testLabels, verbose=1)\n",
    "print('Accuracy for test data is',acc)"
   ]
  },
  {
   "cell_type": "markdown",
   "metadata": {},
   "source": [
    "To plot our results, I just chose the highest probability of the classes and assigned the prediction to a class based on that rounding (highest probability gets a 1, every other class gets a 0). Then, I one-hot decoded the rounded array to get a single number for the class. "
   ]
  },
  {
   "cell_type": "code",
   "execution_count": 12,
   "metadata": {},
   "outputs": [
    {
     "data": {
      "image/png": "[encoded data removed]",
      "text/plain": [
       "<Figure size 432x288 with 2 Axes>"
      ]
     },
     "metadata": {
      "needs_background": "light"
     },
     "output_type": "display_data"
    }
   ],
   "source": [
    "preds = model.predict(df_test)\n",
    "preds = [i.round() for i in preds]\n",
    "\n",
    "preds = enc.inverse_transform(preds)\n",
    "testLabels = enc.inverse_transform(df_testLabels)\n",
    "cm = confusion_matrix(testLabels, preds)\n",
    "\n",
    "_ =plt.imshow(cm, cmap=plt.cm.Blues)\n",
    "_ = plt.xlabel(\"Predicted labels\")\n",
    "_ = plt.ylabel(\"True labels\")\n",
    "\n",
    "_ =plt.xticks(np.arange(0,len(np.unique(testLabels)),1),np.unique(testLabels))\n",
    "_ =plt.yticks(np.arange(0,len(np.unique(testLabels)),1),np.unique(testLabels))\n",
    "_ =plt.title('Confusion matrix ')\n",
    "_ =plt.colorbar()\n",
    "plt.show()"
   ]
  },
  {
   "cell_type": "markdown",
   "metadata": {},
   "source": [
    "It looks like our network is only predicting *some* of our classes. Maybe that's because really good wine (rated 8 and 9) is pretty rare? Let's check it out."
   ]
  },
  {
   "cell_type": "code",
   "execution_count": 13,
   "metadata": {},
   "outputs": [
    {
     "data": {
      "image/png": "[encoded data removed]",
      "text/plain": [
       "<Figure size 432x288 with 1 Axes>"
      ]
     },
     "metadata": {
      "needs_background": "light"
     },
     "output_type": "display_data"
    }
   ],
   "source": [
    "_=plt.hist(enc.inverse_transform(labels),label='training labels')\n",
    "_=plt.hist(testLabels,label='test labels')\n",
    "_=plt.yscale('log')\n",
    "_=plt.legend()"
   ]
  },
  {
   "cell_type": "markdown",
   "metadata": {},
   "source": [
    "Yep! Mostly 5s, 6s, and 7s. Only a handful of really good wines (8s and 9s) and really bad wines (3s and 4s). In fact, no scores below a 3! But no perfect 10s either. Overall, I would say that the dataset is imbalanced (mostly ok wines, some bad and some good - a pretty Gaussian distribution) and could benefit from data augmentation techniques like bootstrapping! Maybe you could even generate some more data from randomly sampling a known distribution...But if you train your model on mostly ok wines, then it learns the characteristics of those wines really well. So, when it's faced with a good or bad wine, it's not as sure how to classify it. You can see if this is happening by looking at the network output, which are the probabilities for each class (ie how sure the network is this sample belongs to a certain class)."
   ]
  },
  {
   "cell_type": "markdown",
   "metadata": {},
   "source": [
    "### Overall, \n",
    "our network performs ok with a training, validation, and test accuracy all around 50-60%. What could you change about the network or inputs? How do you think that would affect the model's predictions?"
   ]
  },
  {
   "cell_type": "code",
   "execution_count": null,
   "metadata": {},
   "outputs": [],
   "source": []
  },
  {
   "cell_type": "code",
   "execution_count": null,
   "metadata": {},
   "outputs": [],
   "source": []
  },
  {
   "cell_type": "code",
   "execution_count": null,
   "metadata": {},
   "outputs": [],
   "source": []
  },
  {
   "cell_type": "code",
   "execution_count": null,
   "metadata": {},
   "outputs": [],
   "source": []
  },
  {
   "cell_type": "code",
   "execution_count": null,
   "metadata": {},
   "outputs": [],
   "source": []
  },
  {
   "cell_type": "code",
   "execution_count": null,
   "metadata": {},
   "outputs": [],
   "source": []
  },
  {
   "cell_type": "code",
   "execution_count": null,
   "metadata": {},
   "outputs": [],
   "source": []
  },
  {
   "cell_type": "code",
   "execution_count": null,
   "metadata": {},
   "outputs": [],
   "source": []
  }
 ],
 "metadata": {
  "kernelspec": {
   "display_name": "Python 3",
   "language": "python",
   "name": "python3"
  },
  "language_info": {
   "codemirror_mode": {
    "name": "ipython",
    "version": 3
   },
   "file_extension": ".py",
   "mimetype": "text/x-python",
   "name": "python",
   "nbconvert_exporter": "python",
   "pygments_lexer": "ipython3",
   "version": "3.8.3"
  }
 },
 "nbformat": 4,
 "nbformat_minor": 2
}
